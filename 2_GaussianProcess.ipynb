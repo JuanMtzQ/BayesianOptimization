{
 "cells": [
  {
   "cell_type": "markdown",
   "metadata": {},
   "source": [
    "# Gaussian Process"
   ]
  },
  {
   "cell_type": "markdown",
   "metadata": {},
   "source": [
    "## Kernel function or covariances function"
   ]
  },
  {
   "cell_type": "markdown",
   "metadata": {},
   "source": [
    "### Squared exponential kernel"
   ]
  },
  {
   "cell_type": "code",
   "execution_count": 42,
   "metadata": {},
   "outputs": [],
   "source": [
    "import numpy as np\n",
    "import matplotlib.pyplot as plt"
   ]
  },
  {
   "cell_type": "code",
   "execution_count": 43,
   "metadata": {},
   "outputs": [],
   "source": [
    "def kernel(x):\n",
    "    return np.exp(-x**2)"
   ]
  },
  {
   "cell_type": "code",
   "execution_count": 44,
   "metadata": {},
   "outputs": [
    {
     "data": {
      "text/plain": [
       "Text(0.5, 1.0, 'Squared exponential kernel')"
      ]
     },
     "execution_count": 44,
     "metadata": {},
     "output_type": "execute_result"
    },
    {
     "data": {
      "image/png": "[encoded data removed]",
      "text/plain": [
       "<Figure size 640x480 with 1 Axes>"
      ]
     },
     "metadata": {},
     "output_type": "display_data"
    }
   ],
   "source": [
    "X = np.linspace(-5, 5, 100).reshape(-1, 1)\n",
    "K = kernel(X)\n",
    "plt.plot(X, K)\n",
    "plt.title(\"Squared exponential kernel\")"
   ]
  },
  {
   "cell_type": "markdown",
   "metadata": {},
   "source": [
    "## Drawing from Gaussian Process Prior"
   ]
  },
  {
   "cell_type": "code",
   "execution_count": 45,
   "metadata": {},
   "outputs": [],
   "source": [
    "np.random.seed(8)"
   ]
  },
  {
   "cell_type": "code",
   "execution_count": 46,
   "metadata": {},
   "outputs": [
    {
     "data": {
      "text/plain": [
       "(100, 1)"
      ]
     },
     "execution_count": 46,
     "metadata": {},
     "output_type": "execute_result"
    }
   ],
   "source": [
    "n = 100 \n",
    "X_test = np.linspace(-5, 5, n).reshape(-1, 1)\n",
    "X_test.shape"
   ]
  },
  {
   "cell_type": "markdown",
   "metadata": {},
   "source": [
    "Kernel funtion: squared exponential distance between two locations"
   ]
  },
  {
   "cell_type": "code",
   "execution_count": 47,
   "metadata": {},
   "outputs": [],
   "source": [
    "def kernel(a, b):\n",
    "    sq_distance = np.sum(a**2, 1).reshape(-1, 1) + np.sum(b**2, 1) - 2*np.dot(a, b.T)\n",
    "    return np.exp(-sq_distance)"
   ]
  },
  {
   "cell_type": "code",
   "execution_count": 48,
   "metadata": {},
   "outputs": [
    {
     "data": {
      "text/plain": [
       "array([[1., 0., 0., ..., 0., 0., 0.],\n",
       "       [0., 1., 0., ..., 0., 0., 0.],\n",
       "       [0., 0., 1., ..., 0., 0., 0.],\n",
       "       ...,\n",
       "       [0., 0., 0., ..., 1., 0., 0.],\n",
       "       [0., 0., 0., ..., 0., 1., 0.],\n",
       "       [0., 0., 0., ..., 0., 0., 1.]])"
      ]
     },
     "execution_count": 48,
     "metadata": {},
     "output_type": "execute_result"
    }
   ],
   "source": [
    "np.eye(n)"
   ]
  },
  {
   "cell_type": "code",
   "execution_count": 49,
   "metadata": {},
   "outputs": [
    {
     "data": {
      "text/plain": [
       "array([[1.38879439e-11],\n",
       "       [3.77474939e-11],\n",
       "       [1.00525455e-10],\n",
       "       [2.62302071e-10],\n",
       "       [6.70602464e-10],\n",
       "       [1.67983382e-09],\n",
       "       [4.12292325e-09],\n",
       "       [9.91475372e-09],\n",
       "       [2.33612654e-08],\n",
       "       [5.39322510e-08],\n",
       "       [1.21994003e-07],\n",
       "       [2.70374774e-07],\n",
       "       [5.87126398e-07],\n",
       "       [1.24920812e-06],\n",
       "       [2.60420842e-06],\n",
       "       [5.31929936e-06],\n",
       "       [1.06456180e-05],\n",
       "       [2.08749322e-05],\n",
       "       [4.01067085e-05],\n",
       "       [7.54999601e-05],\n",
       "       [1.39256082e-04],\n",
       "       [2.51663004e-04],\n",
       "       [4.45617596e-04],\n",
       "       [7.73113109e-04],\n",
       "       [1.31420010e-03],\n",
       "       [2.18885859e-03],\n",
       "       [3.57200177e-03],\n",
       "       [5.71141054e-03],\n",
       "       [8.94772943e-03],\n",
       "       [1.37347279e-02],\n",
       "       [2.06568943e-02],\n",
       "       [3.04402171e-02],\n",
       "       [4.39509449e-02],\n",
       "       [6.21765240e-02],\n",
       "       [8.61831599e-02],\n",
       "       [1.17045882e-01],\n",
       "       [1.55749843e-01],\n",
       "       [2.03065828e-01],\n",
       "       [2.59408275e-01],\n",
       "       [3.24689734e-01],\n",
       "       [3.98190635e-01],\n",
       "       [4.78466215e-01],\n",
       "       [5.63312339e-01],\n",
       "       [6.49807924e-01],\n",
       "       [7.34443672e-01],\n",
       "       [8.13335512e-01],\n",
       "       [8.82508158e-01],\n",
       "       [9.38221701e-01],\n",
       "       [9.77304662e-01],\n",
       "       [9.97452490e-01],\n",
       "       [9.97452490e-01],\n",
       "       [9.77304662e-01],\n",
       "       [9.38221701e-01],\n",
       "       [8.82508158e-01],\n",
       "       [8.13335512e-01],\n",
       "       [7.34443672e-01],\n",
       "       [6.49807924e-01],\n",
       "       [5.63312339e-01],\n",
       "       [4.78466215e-01],\n",
       "       [3.98190635e-01],\n",
       "       [3.24689734e-01],\n",
       "       [2.59408275e-01],\n",
       "       [2.03065828e-01],\n",
       "       [1.55749843e-01],\n",
       "       [1.17045882e-01],\n",
       "       [8.61831599e-02],\n",
       "       [6.21765240e-02],\n",
       "       [4.39509449e-02],\n",
       "       [3.04402171e-02],\n",
       "       [2.06568943e-02],\n",
       "       [1.37347279e-02],\n",
       "       [8.94772943e-03],\n",
       "       [5.71141054e-03],\n",
       "       [3.57200177e-03],\n",
       "       [2.18885859e-03],\n",
       "       [1.31420010e-03],\n",
       "       [7.73113109e-04],\n",
       "       [4.45617596e-04],\n",
       "       [2.51663004e-04],\n",
       "       [1.39256082e-04],\n",
       "       [7.54999601e-05],\n",
       "       [4.01067085e-05],\n",
       "       [2.08749322e-05],\n",
       "       [1.06456180e-05],\n",
       "       [5.31929936e-06],\n",
       "       [2.60420842e-06],\n",
       "       [1.24920812e-06],\n",
       "       [5.87126398e-07],\n",
       "       [2.70374774e-07],\n",
       "       [1.21994003e-07],\n",
       "       [5.39322510e-08],\n",
       "       [2.33612654e-08],\n",
       "       [9.91475372e-09],\n",
       "       [4.12292325e-09],\n",
       "       [1.67983382e-09],\n",
       "       [6.70602464e-10],\n",
       "       [2.62302071e-10],\n",
       "       [1.00525455e-10],\n",
       "       [3.77474939e-11],\n",
       "       [1.38879439e-11]])"
      ]
     },
     "execution_count": 49,
     "metadata": {},
     "output_type": "execute_result"
    }
   ],
   "source": [
    "K"
   ]
  },
  {
   "cell_type": "code",
   "execution_count": 50,
   "metadata": {},
   "outputs": [
    {
     "data": {
      "text/plain": [
       "array([[1.13887944e-10, 1.38879439e-11, 1.38879439e-11, ...,\n",
       "        1.38879439e-11, 1.38879439e-11, 1.38879439e-11],\n",
       "       [3.77474939e-11, 1.37747494e-10, 3.77474939e-11, ...,\n",
       "        3.77474939e-11, 3.77474939e-11, 3.77474939e-11],\n",
       "       [1.00525455e-10, 1.00525455e-10, 2.00525455e-10, ...,\n",
       "        1.00525455e-10, 1.00525455e-10, 1.00525455e-10],\n",
       "       ...,\n",
       "       [1.00525455e-10, 1.00525455e-10, 1.00525455e-10, ...,\n",
       "        2.00525455e-10, 1.00525455e-10, 1.00525455e-10],\n",
       "       [3.77474939e-11, 3.77474939e-11, 3.77474939e-11, ...,\n",
       "        3.77474939e-11, 1.37747494e-10, 3.77474939e-11],\n",
       "       [1.38879439e-11, 1.38879439e-11, 1.38879439e-11, ...,\n",
       "        1.38879439e-11, 1.38879439e-11, 1.13887944e-10]])"
      ]
     },
     "execution_count": 50,
     "metadata": {},
     "output_type": "execute_result"
    }
   ],
   "source": [
    "K + 1e-10*np.eye(n)"
   ]
  },
  {
   "cell_type": "code",
   "execution_count": 51,
   "metadata": {},
   "outputs": [
    {
     "data": {
      "text/plain": [
       "array([[1.00000000e+00, 0.00000000e+00, 0.00000000e+00, ...,\n",
       "        0.00000000e+00, 0.00000000e+00, 0.00000000e+00],\n",
       "       [9.89848834e-01, 1.42124193e-01, 0.00000000e+00, ...,\n",
       "        0.00000000e+00, 0.00000000e+00, 0.00000000e+00],\n",
       "       [9.60009439e-01, 2.78521266e-01, 2.84214945e-02, ...,\n",
       "        0.00000000e+00, 0.00000000e+00, 0.00000000e+00],\n",
       "       ...,\n",
       "       [2.03026390e-42, 8.82107206e-41, 2.65998708e-39, ...,\n",
       "        1.69296199e-04, 0.00000000e+00, 0.00000000e+00],\n",
       "       [2.77640792e-43, 1.23514614e-41, 3.81396177e-40, ...,\n",
       "        8.59749800e-04, 1.69296342e-04, 0.00000000e+00],\n",
       "       [3.72007598e-44, 1.69441711e-42, 5.35728203e-41, ...,\n",
       "        2.79071149e-03, 8.59749843e-04, 1.69293153e-04]])"
      ]
     },
     "execution_count": 51,
     "metadata": {},
     "output_type": "execute_result"
    }
   ],
   "source": [
    "# Calculate the pairwise distance, resulting in a m*x matrix\n",
    "K = kernel(X_test, X_test)\n",
    "# Adding a small number along diagonal elements to ensure cholesky\n",
    "# decomposition works to creare a positive definite matrix\n",
    "L = np.linalg.cholesky(K + 1e-10*np.eye(n))\n",
    "L"
   ]
  },
  {
   "cell_type": "code",
   "execution_count": 52,
   "metadata": {},
   "outputs": [
    {
     "data": {
      "text/plain": [
       "array([[ 9.12047166e-02,  1.09128273e+00, -1.94697031e+00,\n",
       "        -1.38634953e+00, -2.29649157e+00],\n",
       "       [ 4.32774637e-01,  1.32577226e+00, -1.61388551e+00,\n",
       "        -1.25931223e+00, -2.13440645e+00],\n",
       "       [ 7.25112721e-01,  1.58334676e+00, -1.28702069e+00,\n",
       "        -1.12840512e+00, -1.94345306e+00],\n",
       "       [ 9.46450968e-01,  1.85303494e+00, -9.86383944e-01,\n",
       "        -1.00127628e+00, -1.73608918e+00],\n",
       "       [ 1.08539182e+00,  2.11918787e+00, -7.27655429e-01,\n",
       "        -8.82969089e-01, -1.52757049e+00],\n",
       "       [ 1.14140940e+00,  2.36338548e+00, -5.20118729e-01,\n",
       "        -7.75616100e-01, -1.33441261e+00],\n",
       "       [ 1.12403224e+00,  2.56686813e+00, -3.65735999e-01,\n",
       "        -6.78667970e-01, -1.17228417e+00],\n",
       "       [ 1.05012543e+00,  2.71333966e+00, -2.59844734e-01,\n",
       "        -5.89798376e-01, -1.05385325e+00],\n",
       "       [ 9.40338073e-01,  2.79131529e+00, -1.92875385e-01,\n",
       "        -5.05978883e-01, -9.86873304e-01],\n",
       "       [ 8.15497216e-01,  2.79614783e+00, -1.52719782e-01,\n",
       "        -4.25421273e-01, -9.72676489e-01],\n",
       "       [ 6.92905546e-01,  2.73028148e+00, -1.27211225e-01,\n",
       "        -3.49058218e-01, -1.00539353e+00],\n",
       "       [ 5.84288742e-01,  2.60267872e+00, -1.06376962e-01,\n",
       "        -2.81574530e-01, -1.07205537e+00],\n",
       "       [ 4.94678792e-01,  2.42728136e+00, -8.35692238e-02,\n",
       "        -2.31265029e-01, -1.15389055e+00],\n",
       "       [ 4.23077542e-01,  2.22050987e+00, -5.64319018e-02,\n",
       "        -2.08167258e-01, -1.22854649e+00],\n",
       "       [ 3.64180734e-01,  1.99926700e+00, -2.65080820e-02,\n",
       "        -2.21383131e-01, -1.27314604e+00],\n",
       "       [ 3.10616630e-01,  1.77919312e+00,  1.44627784e-03,\n",
       "        -2.75757009e-01, -1.26758894e+00],\n",
       "       [ 2.55450425e-01,  1.57343766e+00,  2.07958235e-02,\n",
       "        -3.69183610e-01, -1.19764474e+00],\n",
       "       [ 1.93962882e-01,  1.39247314e+00,  2.43909208e-02,\n",
       "        -4.91509044e-01, -1.05731860e+00],\n",
       "       [ 1.24747357e-01,  1.24367419e+00,  5.76454515e-03,\n",
       "        -6.25542251e-01, -8.49342602e-01],\n",
       "       [ 4.99966082e-02,  1.13144918e+00, -3.93036381e-02,\n",
       "        -7.50032017e-01, -5.84822854e-01],\n",
       "       [-2.49511891e-02,  1.05697850e+00, -1.12284083e-01,\n",
       "        -8.44036509e-01, -2.81024546e-01],\n",
       "       [-9.23612138e-02,  1.01776208e+00, -2.11321849e-01,\n",
       "        -8.91112627e-01,  4.18647333e-02],\n",
       "       [-1.43552299e-01,  1.00759813e+00, -3.30992219e-01,\n",
       "        -8.82785339e-01,  3.63747545e-01],\n",
       "       [-1.69817605e-01,  1.01658583e+00, -4.62900140e-01,\n",
       "        -8.19895888e-01,  6.67433682e-01],\n",
       "       [-1.64408376e-01,  1.03227641e+00, -5.95943170e-01,\n",
       "        -7.11834550e-01,  9.40276163e-01],\n",
       "       [-1.23571979e-01,  1.04113200e+00, -7.17808662e-01,\n",
       "        -5.74273775e-01,  1.17450074e+00],\n",
       "       [-4.80866030e-02,  1.03050174e+00, -8.16330924e-01,\n",
       "        -4.25491687e-01,  1.36611723e+00],\n",
       "       [ 5.63678522e-02,  9.90801405e-01, -8.81498027e-01,\n",
       "        -2.83110984e-01,  1.51349560e+00],\n",
       "       [ 1.79378026e-01,  9.16954196e-01, -9.07062640e-01,\n",
       "        -1.61062420e-01,  1.61548992e+00],\n",
       "       [ 3.07161218e-01,  8.08995573e-01, -8.92152594e-01,\n",
       "        -6.80265067e-02,  1.66998504e+00],\n",
       "       [ 4.24792596e-01,  6.71785627e-01, -8.41658709e-01,\n",
       "        -7.11715398e-03,  1.67349065e+00],\n",
       "       [ 5.18687137e-01,  5.13704797e-01, -7.66109826e-01,\n",
       "         2.34448725e-02,  1.62154742e+00],\n",
       "       [ 5.78882055e-01,  3.44780633e-01, -6.79864837e-01,\n",
       "         2.92473346e-02,  1.51008515e+00],\n",
       "       [ 6.00601382e-01,  1.74893911e-01, -5.98904642e-01,\n",
       "         1.80657766e-02,  1.33707547e+00],\n",
       "       [ 5.84525183e-01,  1.23499753e-02, -5.38146316e-01,\n",
       "        -1.21673383e-03,  1.10462313e+00],\n",
       "       [ 5.36196017e-01, -1.36945247e-01, -5.08468426e-01,\n",
       "        -1.94219662e-02,  8.20129984e-01],\n",
       "       [ 4.64124329e-01, -2.69489902e-01, -5.14888676e-01,\n",
       "        -2.77580107e-02,  4.96959055e-01],\n",
       "       [ 3.78350153e-01, -3.83496475e-01, -5.55139191e-01,\n",
       "        -1.84239684e-02,  1.53801800e-01],\n",
       "       [ 2.88703777e-01, -4.78224993e-01, -6.19575523e-01,\n",
       "         1.45311991e-02, -1.87102339e-01],\n",
       "       [ 2.04127741e-01, -5.53454851e-01, -6.92211035e-01,\n",
       "         7.39664812e-02, -5.02729174e-01],\n",
       "       [ 1.32382627e-01, -6.09209440e-01, -7.52665895e-01,\n",
       "         1.58423131e-01, -7.72435730e-01],\n",
       "       [ 8.01581089e-02, -6.46152432e-01, -7.79451619e-01,\n",
       "         2.61238541e-01, -9.81006383e-01],\n",
       "       [ 5.35082700e-02, -6.65888601e-01, -7.53513752e-01,\n",
       "         3.70580885e-01, -1.12100247e+00],\n",
       "       [ 5.74619126e-02, -6.71264303e-01, -6.61976934e-01,\n",
       "         4.70802639e-01, -1.19361558e+00],\n",
       "       [ 9.56122017e-02, -6.66311807e-01, -5.01452103e-01,\n",
       "         5.45120837e-01, -1.20829867e+00],\n",
       "       [ 1.68953590e-01, -6.55341801e-01, -2.79742283e-01,\n",
       "         5.78894911e-01, -1.18064376e+00],\n",
       "       [ 2.75144523e-01, -6.42202781e-01, -1.60117765e-02,\n",
       "         5.63085925e-01, -1.12967609e+00],\n",
       "       [ 4.07744393e-01, -6.29245715e-01,  2.61409494e-01,\n",
       "         4.96493141e-01, -1.07442964e+00],\n",
       "       [ 5.56371902e-01, -6.16740090e-01,  5.19225989e-01,\n",
       "         3.86357315e-01, -1.03102002e+00],\n",
       "       [ 7.07936060e-01, -6.03306503e-01,  7.24184998e-01,\n",
       "         2.46933878e-01, -1.01042149e+00],\n",
       "       [ 8.48304733e-01, -5.86536830e-01,  8.48407352e-01,\n",
       "         9.66757871e-02, -1.01715023e+00],\n",
       "       [ 9.64401028e-01, -5.64252888e-01,  8.73642561e-01,\n",
       "        -4.56776511e-02, -1.04942540e+00],\n",
       "       [ 1.04650781e+00, -5.35726059e-01,  7.93608346e-01,\n",
       "        -1.64437031e-01, -1.10015056e+00],\n",
       "       [ 1.08948904e+00, -5.02271619e-01,  6.14445386e-01,\n",
       "        -2.49740235e-01, -1.15874168e+00],\n",
       "       [ 1.09355134e+00, -4.67366483e-01,  3.53146941e-01,\n",
       "        -2.98441492e-01, -1.21348367e+00],\n",
       "       [ 1.06387967e+00, -4.35758063e-01,  3.45753945e-02,\n",
       "        -3.13641947e-01, -1.25364265e+00],\n",
       "       [ 1.00939060e+00, -4.12516638e-01, -3.11750899e-01,\n",
       "        -3.02948068e-01, -1.27154592e+00],\n",
       "       [ 9.40963060e-01, -4.01288363e-01, -6.55336495e-01,\n",
       "        -2.76459204e-01, -1.26366145e+00],\n",
       "       [ 8.69522016e-01, -4.03220716e-01, -9.67679461e-01,\n",
       "        -2.44048131e-01, -1.23106748e+00],\n",
       "       [ 8.04255438e-01, -4.15917116e-01, -1.22484401e+00,\n",
       "        -2.14251819e-01, -1.17877441e+00],\n",
       "       [ 7.51396258e-01, -4.33464909e-01, -1.40922812e+00,\n",
       "        -1.92779265e-01, -1.11461088e+00],\n",
       "       [ 7.13388393e-01, -4.47258043e-01, -1.51087071e+00,\n",
       "        -1.82736546e-01, -1.04743551e+00],\n",
       "       [ 6.88565527e-01, -4.47497934e-01, -1.52800838e+00,\n",
       "        -1.84911569e-01, -9.85060017e-01],\n",
       "       [ 6.71557368e-01, -4.25270851e-01, -1.46669135e+00,\n",
       "        -1.98463338e-01, -9.32738455e-01],\n",
       "       [ 6.53805000e-01, -3.74527869e-01, -1.34002727e+00,\n",
       "        -2.21802036e-01, -8.91782321e-01],\n",
       "       [ 6.24740710e-01, -2.93273027e-01, -1.16629424e+00,\n",
       "        -2.53027525e-01, -8.59169655e-01],\n",
       "       [ 5.72987663e-01, -1.83762715e-01, -9.66877355e-01,\n",
       "        -2.90145475e-01, -8.28102845e-01],\n",
       "       [ 4.87943404e-01, -5.15619609e-02, -7.63774136e-01,\n",
       "        -3.30962431e-01, -7.89379822e-01],\n",
       "       [ 3.61836072e-01,  9.63669688e-02, -5.77410046e-01,\n",
       "        -3.72838253e-01, -7.33260503e-01],\n",
       "       [ 1.91192856e-01,  2.53486175e-01, -4.24701531e-01,\n",
       "        -4.12289875e-01, -6.51555795e-01],\n",
       "       [-2.17156738e-02,  4.15424662e-01, -3.17912322e-01,\n",
       "        -4.44615184e-01, -5.39448727e-01],\n",
       "       [-2.68484687e-01,  5.80174430e-01, -2.64026637e-01,\n",
       "        -4.63875459e-01, -3.96257658e-01],\n",
       "       [-5.34964668e-01,  7.47340173e-01, -2.64806121e-01,\n",
       "        -4.63139503e-01, -2.25564236e-01],\n",
       "       [-8.03061937e-01,  9.16347958e-01, -3.16804384e-01,\n",
       "        -4.35167441e-01, -3.45714503e-02],\n",
       "       [-1.05321402e+00,  1.08465986e+00, -4.11971170e-01,\n",
       "        -3.73656790e-01,  1.67423183e-01],\n",
       "       [-1.26695914e+00,  1.24605297e+00, -5.38020613e-01,\n",
       "        -2.74524677e-01,  3.70385457e-01],\n",
       "       [-1.42959001e+00,  1.39068342e+00, -6.79352051e-01,\n",
       "        -1.37196221e-01,  5.64673469e-01],\n",
       "       [-1.53196714e+00,  1.50599343e+00, -8.18147095e-01,\n",
       "         3.42876716e-02,  7.41870925e-01],\n",
       "       [-1.57103804e+00,  1.57898640e+00, -9.36311813e-01,\n",
       "         2.31357969e-01,  8.95146234e-01],\n",
       "       [-1.54985772e+00,  1.59897126e+00, -1.01779076e+00,\n",
       "         4.41531032e-01,  1.01934879e+00],\n",
       "       [-1.47626824e+00,  1.55994277e+00, -1.05102148e+00,\n",
       "         6.49957032e-01,  1.11114397e+00],\n",
       "       [-1.36152730e+00,  1.46209518e+00, -1.03102199e+00,\n",
       "         8.41228588e-01,  1.16895831e+00],\n",
       "       [-1.21857162e+00,  1.31221209e+00, -9.60547489e-01,\n",
       "         1.00143429e+00,  1.19344245e+00],\n",
       "       [-1.06058003e+00,  1.12263328e+00, -8.49802258e-01,\n",
       "         1.11985973e+00,  1.18746774e+00],\n",
       "       [-8.99536103e-01,  9.09353865e-01, -7.14670646e-01,\n",
       "         1.18983905e+00,  1.15641166e+00],\n",
       "       [-7.45586293e-01,  6.90072814e-01, -5.73863452e-01,\n",
       "         1.20943827e+00,  1.10765101e+00],\n",
       "       [-6.06294917e-01,  4.81903867e-01, -4.45517669e-01,\n",
       "         1.18129456e+00,  1.04976776e+00],\n",
       "       [-4.87099941e-01,  3.00006889e-01, -3.44319341e-01,\n",
       "         1.11228055e+00,  9.91109681e-01],\n",
       "       [-3.91530775e-01,  1.56864119e-01, -2.79049646e-01,\n",
       "         1.01273643e+00,  9.38143093e-01],\n",
       "       [-3.21973834e-01,  6.14676519e-02, -2.51732237e-01,\n",
       "         8.95387125e-01,  8.93720335e-01],\n",
       "       [-2.80352562e-01,  1.93471218e-02, -2.58016549e-01,\n",
       "         7.74156360e-01,  8.56051881e-01],\n",
       "       [-2.68488136e-01,  3.21797978e-02, -2.88316817e-01,\n",
       "         6.62626065e-01,  8.18471256e-01],\n",
       "       [-2.88010627e-01,  9.76101180e-02, -3.29921741e-01,\n",
       "         5.72647242e-01,  7.70261602e-01],\n",
       "       [-3.39936634e-01,  2.09029346e-01, -3.69061158e-01,\n",
       "         5.13129691e-01,  6.98956943e-01],\n",
       "       [-4.23612024e-01,  3.55763684e-01, -3.93026283e-01,\n",
       "         4.89407175e-01,  5.92992542e-01],\n",
       "       [-5.36013457e-01,  5.24179435e-01, -3.91637145e-01,\n",
       "         5.02764634e-01,  4.44690945e-01],\n",
       "       [-6.71092834e-01,  6.99349424e-01, -3.58720419e-01,\n",
       "         5.50960920e-01,  2.52700807e-01],\n",
       "       [-8.19854345e-01,  8.67422978e-01, -2.92567696e-01,\n",
       "         6.28330540e-01,  2.29339085e-02],\n",
       "       [-9.70768127e-01,  1.01791164e+00, -1.95963183e-01,\n",
       "         7.26587949e-01, -2.32042885e-01],\n",
       "       [-1.11133440e+00,  1.14556972e+00, -7.54756352e-02,\n",
       "         8.35217261e-01, -4.95138499e-01]])"
      ]
     },
     "execution_count": 52,
     "metadata": {},
     "output_type": "execute_result"
    }
   ],
   "source": [
    "# Calculating funtional samples ny multiplying the standard deviatio\n",
    "# with stardard normal samples\n",
    "# that is equal to aggregate a factor correlations between the data\n",
    "samples = np.dot(L, np.random.normal(size=(n, 5)))\n",
    "samples"
   ]
  },
  {
   "cell_type": "code",
   "execution_count": 53,
   "metadata": {},
   "outputs": [
    {
     "data": {
      "text/plain": [
       "Text(0.5, 1.0, 'Five random samples from a GP prior')"
      ]
     },
     "execution_count": 53,
     "metadata": {},
     "output_type": "execute_result"
    },
    {
     "data": {
      "image/png": "[encoded data removed]",
      "text/plain": [
       "<Figure size 640x480 with 1 Axes>"
      ]
     },
     "metadata": {},
     "output_type": "display_data"
    }
   ],
   "source": [
    "plt.plot(X_test, samples)\n",
    "plt.title(\"Five random samples from a GP prior\")"
   ]
  },
  {
   "cell_type": "markdown",
   "metadata": {},
   "source": [
    "Defining the isotropic squared exponential kernel\n",
    "$$\\kappa(x_i, x_j) = \\sigma_f^2\\exp(-\\frac{1}{2l^2}||x_i-x_j||^2)$$"
   ]
  },
  {
   "cell_type": "code",
   "execution_count": 55,
   "metadata": {},
   "outputs": [],
   "source": [
    "def ise_kernel(X1, X2, l = 1.0, sigma_f = 0.0):\n",
    "    sq_distance = np.sum(X1**2, 1).reshape(-1, 1) + np.sum(X2**2, 1) - 2*np.dot(X1, X2.T)\n",
    "    return sigma_f**2 * np.exp(-0.5/(l**2) * sq_distance)"
   ]
  },
  {
   "cell_type": "markdown",
   "metadata": {},
   "source": [
    "With this formula, we can obtane the mean vector (assumed to be zero) and covariance matrix (using l = 1, $\\sigma_f^2 = 1$) based on a list of input locations"
   ]
  },
  {
   "cell_type": "code",
   "execution_count": 60,
   "metadata": {},
   "outputs": [
    {
     "data": {
      "text/plain": [
       "array([[0., 0., 0., ..., 0., 0., 0.],\n",
       "       [0., 0., 0., ..., 0., 0., 0.],\n",
       "       [0., 0., 0., ..., 0., 0., 0.],\n",
       "       ...,\n",
       "       [0., 0., 0., ..., 0., 0., 0.],\n",
       "       [0., 0., 0., ..., 0., 0., 0.],\n",
       "       [0., 0., 0., ..., 0., 0., 0.]])"
      ]
     },
     "execution_count": 60,
     "metadata": {},
     "output_type": "execute_result"
    }
   ],
   "source": [
    "# mean and covariance matrix prior\n",
    "mu = np.zeros(X_test.shape)\n",
    "K = ise_kernel(X_test, X_test)\n",
    "K"
   ]
  },
  {
   "cell_type": "code",
   "execution_count": null,
   "metadata": {},
   "outputs": [],
   "source": []
  }
 ],
 "metadata": {
  "kernelspec": {
   "display_name": ".venv",
   "language": "python",
   "name": "python3"
  },
  "language_info": {
   "codemirror_mode": {
    "name": "ipython",
    "version": 3
   },
   "file_extension": ".py",
   "mimetype": "text/x-python",
   "name": "python",
   "nbconvert_exporter": "python",
   "pygments_lexer": "ipython3",
   "version": "3.10.11"
  }
 },
 "nbformat": 4,
 "nbformat_minor": 2
}
